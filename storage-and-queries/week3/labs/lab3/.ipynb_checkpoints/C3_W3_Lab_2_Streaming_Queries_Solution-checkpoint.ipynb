{
 "cells": [
  {
   "cell_type": "markdown",
   "metadata": {},
   "source": [
    "# Week 3 Lab 2: Streaming Queries with Apache Flink\n",
    "\n",
    "In this lab, you will learn how to perform queries on top of streaming sources using Apache Flink. "
   ]
  },
  {
   "cell_type": "markdown",
   "metadata": {},
   "source": [
    "# Table of Contents\n",
    "\n",
    "- [ 1 - Introduction](#1)\n",
    "- [ 2 - Apache Flink 101](#2)\n",
    "  - [ 2.1 - Table Environment](#2.1)\n",
    "  - [ 2.2 - Table Definition](#2.2)\n",
    "  - [ 2.3 - Table Definition with SQL](#2.3)\n",
    "  - [ 2.4 - SQL Queries](#2.4)\n",
    "  - [ 2.5 - Window Queries](#2.5)\n",
    "    - [ Exercise 1](#ex01)\n",
    "    - [ Exercise 2](#ex02)\n",
    "  - [ 2.6 - Output Tables](#2.6)\n",
    "- [ 3 - PyFlink with Kinesis](#3)"
   ]
  },
  {
   "cell_type": "markdown",
   "metadata": {},
   "source": [
    "Start from loading the required libraries."
   ]
  },
  {
   "cell_type": "code",
   "execution_count": 1,
   "metadata": {},
   "outputs": [],
   "source": [
    "import os\n",
    "import json\n",
    "import pandas as pd\n",
    "from datetime import datetime\n",
    "from pyflink.table.expressions import col, lit\n",
    "from pyflink.table import EnvironmentSettings, TableEnvironment, DataTypes\n",
    "from pyflink.table.window import Slide, Tumble\n",
    "from pyflink.table.udf import udf"
   ]
  },
  {
   "cell_type": "markdown",
   "metadata": {},
   "source": [
    "<a name='1'></a>\n",
    "## 1 - Introduction\n",
    "\n",
    "In the current landscape of data engineering, one of the biggest challenges is real-time data analysis, which is necessary for certain enterprises that require immediate insights and quick responses to operate their business efficiently. Apache Flink is designed to handle data in real time, allowing you to process and analyze streaming data as soon as it arrives. This enables timely insights and immediate reactions to changing data.\n",
    "\n",
    "Here you will work with a Kinesis data producer similar to the one introduced in Course 1, Week 4. This producer is continuously generating data related to orders made by customers on the [`classicmodels`](https://www.mysqltutorial.org/mysql-sample-database.aspx) website. The business team at Classic Models is eager to gain deeper, real-time insights into the behavior of clients on their websites. By analyzing this streaming data, they aim to understand user buying habits, preferences, and other business metrics as they happen. Through this lab, you will leverage Apache Flink to process and analyze this data stream, providing the business team with valuable, actionable insights in real time.\n",
    "\n",
    "To learn the basics of Apache Flink and PyFlink, you will use a sample dataset based on stock prices. You will follow similar steps with the Classic Models data."
   ]
  },
  {
   "cell_type": "markdown",
   "metadata": {},
   "source": [
    "<a name='2'></a>\n",
    "## 2 - Apache Flink 101\n",
    "\n",
    "Apache Flink is a robust framework and processing engine designed for executing computations on data streams. These data streams can be either unbounded, such as continuous streams of real-time data or bounded, like a finite batch of data. Flink is structured around two major APIs: the **DataStream API** and the **Table API & SQL**. The DataStream API is tailored for complex event processing and real-time analytics, while the Table API & SQL offers a more declarative approach to data processing, akin to traditional database operations.\n",
    "\n",
    "In this lab, you will be utilizing PyFlink, which is the Python API for Apache Flink. PyFlink enables developers to harness the power of Flink using Python, making it accessible to those familiar with the language. Additionally, PyFlink integrates with `pandas`, allowing for seamless data manipulation and analysis within the Flink ecosystem. You use the PyFlink Table API to run queries on top of a Kinesis data stream, but first, you will learn how to use PyFlink with some sample data we provided. You can find more information [here](https://nightlies.apache.org/flink/flink-docs-master/docs/dev/python/table_api_tutorial/)."
   ]
  },
  {
   "cell_type": "markdown",
   "metadata": {},
   "source": [
    "<a name='2.1'></a>\n",
    "### 2.1 - Table Environment\n",
    "\n",
    "To start using the PyFlink Table API, you first need to declare a table environment. This environment acts as the primary gateway for all interactions with the Flink runtime."
   ]
  },
  {
   "cell_type": "code",
   "execution_count": 2,
   "metadata": {},
   "outputs": [],
   "source": [
    "table_env = TableEnvironment.create(EnvironmentSettings.in_streaming_mode())"
   ]
  },
  {
   "cell_type": "markdown",
   "metadata": {},
   "source": [
    "<a name='2.2'></a>\n",
    "### 2.2 - Table Definition\n",
    "\n",
    "The core element of the Table API & SQL in Apache Flink is the entity known as a **Table**. Tables act as both the input and output for queries, serving as the fundamental data structures upon which all operations are performed. In a Flink program, the first step involves defining these tables, meaning defining the schema and the connection details, a table can be connected to various source or target systems, such as databases, files, message queues or data streams.\n",
    "\n",
    "After establishing the tables, you can perform a wide range of operations on them, such as filtering, aggregating, joining, and transforming the data. These operations can be expressed using either the Table API, which provides a programmatic way to manipulate tables, or SQL queries, which offer a more declarative approach. \n",
    "\n",
    "You have been provided two samples of the data produced by the Stock Market and Classic Models Kinesis data streams, located at `data/sample_stock.json` and `data/sample.json` respectively. You will interact with the files using PyFlink before connecting to the Classic Models stream. Load the files using the following cells and understand what each contains: "
   ]
  },
  {
   "cell_type": "code",
   "execution_count": 3,
   "metadata": {},
   "outputs": [
    {
     "name": "stdout",
     "output_type": "stream",
     "text": [
      "{\n",
      "    \"event_time\": \"2024-06-03T08:14:52.912728\",\n",
      "    \"ticker\": \"INTC\",\n",
      "    \"price\": 81.09\n",
      "}\n"
     ]
    }
   ],
   "source": [
    "sample_stock_data = []\n",
    "with open(\"data/sample_stock.json\") as f:\n",
    "    for line in f.readlines():\n",
    "        sample_stock_data.append(json.loads(line))\n",
    "print(json.dumps(sample_stock_data[0], indent=4))"
   ]
  },
  {
   "cell_type": "code",
   "execution_count": 4,
   "metadata": {},
   "outputs": [
    {
     "name": "stdout",
     "output_type": "stream",
     "text": [
      "{\n",
      "    \"order_id\": \"a03470d0-0f5d-4ab1-9ace-e1163737a4f1\",\n",
      "    \"order_timestamp\": \"2024-06-01T00:00:30\",\n",
      "    \"order_date\": \"2024-06-01\",\n",
      "    \"customer_number\": 497,\n",
      "    \"customer_visit_number\": 1,\n",
      "    \"customer_city\": \"Allentown\",\n",
      "    \"customer_country\": \"USA\",\n",
      "    \"customer_credit_limit\": 26955,\n",
      "    \"device_type\": \"desktop\",\n",
      "    \"browser\": \"Mozilla/5.0 (iPod; U; CPU iPhone OS 4_0 like Mac OS X; he-IL) AppleWebKit/531.24.2 (KHTML, like Gecko) Version/3.0.5 Mobile/8B118 Safari/6531.24.2\",\n",
      "    \"operating_system\": \"MacOS\",\n",
      "    \"product_code\": \"S18_1129\",\n",
      "    \"product_line\": \"Classic Cars\",\n",
      "    \"product_unitary_price\": 141.54,\n",
      "    \"quantity\": 2,\n",
      "    \"total_price\": 283.08,\n",
      "    \"traffic_source\": \"http://www.hawkins-rosales.com/\"\n",
      "}\n"
     ]
    }
   ],
   "source": [
    "sample_data = []\n",
    "with open(\"data/sample.json\") as f:\n",
    "    for line in f.readlines():\n",
    "        sample_data.append(json.loads(line))\n",
    "print(json.dumps(sample_data[0], indent=4))"
   ]
  },
  {
   "cell_type": "markdown",
   "metadata": {},
   "source": [
    "The Kinesis Data Streams, and in general streaming sources, are unbounded sequences of records. In the Stock market sample, you have information about the price of a certain ticker at a point in time. Before loading these records to a `Table` in Flink, you will define the schema from source stock data:"
   ]
  },
  {
   "cell_type": "code",
   "execution_count": 5,
   "metadata": {},
   "outputs": [],
   "source": [
    "row_stock_schema = DataTypes.ROW([\n",
    "    DataTypes.FIELD(\"event_time\", DataTypes.TIMESTAMP(0)),\n",
    "    DataTypes.FIELD(\"ticker\", DataTypes.STRING()),\n",
    "    DataTypes.FIELD(\"price\", DataTypes.DOUBLE())\n",
    "    ])"
   ]
  },
  {
   "cell_type": "markdown",
   "metadata": {},
   "source": [
    "On the other hand, a record for the Classic Models stream seems to be an order made by a customer in JSON format. Using the `DataTypes` classes, define the schema for the sample data in the `row_source_schema` variable.\n",
    "\n",
    "*Note*: DataTypes includes the `INT`, `DATE` and `BOOLEAN` classes, for `TIMESTAMP` we define a value `(p)` where p is the number of digits of fractional seconds (precision), in our case 0."
   ]
  },
  {
   "cell_type": "code",
   "execution_count": 6,
   "metadata": {},
   "outputs": [],
   "source": [
    "row_source_schema = DataTypes.ROW([\n",
    "    DataTypes.FIELD(\"order_id\", DataTypes.STRING()),\n",
    "    DataTypes.FIELD(\"order_timestamp\", DataTypes.TIMESTAMP(0)),\n",
    "    DataTypes.FIELD(\"order_date\", DataTypes.DATE()),\n",
    "    DataTypes.FIELD(\"customer_number\", DataTypes.INT()),\n",
    "    DataTypes.FIELD(\"customer_visit_number\", DataTypes.INT()),\n",
    "    DataTypes.FIELD(\"customer_city\", DataTypes.STRING()),\n",
    "    DataTypes.FIELD(\"customer_country\", DataTypes.STRING()),    \n",
    "    DataTypes.FIELD(\"customer_credit_limit\", DataTypes.INT()),\n",
    "    DataTypes.FIELD(\"device_type\",DataTypes.STRING()),\n",
    "    DataTypes.FIELD(\"browser\", DataTypes.STRING()),\n",
    "    DataTypes.FIELD(\"operating_system\", DataTypes.STRING()),\n",
    "    DataTypes.FIELD(\"product_code\",DataTypes.STRING()),\n",
    "    DataTypes.FIELD(\"product_line\", DataTypes.STRING()),\n",
    "    DataTypes.FIELD(\"product_unitary_price\", DataTypes.DOUBLE()),\n",
    "    DataTypes.FIELD(\"in_shopping_cart\", DataTypes.BOOLEAN()),\n",
    "    DataTypes.FIELD(\"quantity\", DataTypes.INT()),\n",
    "    DataTypes.FIELD(\"total_price\", DataTypes.DOUBLE()),\n",
    "    DataTypes.FIELD(\"traffic_source\", DataTypes.STRING())\n",
    "    ])"
   ]
  },
  {
   "cell_type": "markdown",
   "metadata": {},
   "source": [
    "You will enforce this schema on the `sample_stock_data` and `sample_data` arrays, as the JSON files has some of the column values that are meant to be float and date types stored as strings."
   ]
  },
  {
   "cell_type": "code",
   "execution_count": 7,
   "metadata": {},
   "outputs": [],
   "source": [
    "for record in sample_stock_data:\n",
    "    record['event_time'] = datetime.fromisoformat(record['event_time'])\n",
    "    record['price'] = float(record['price'])"
   ]
  },
  {
   "cell_type": "markdown",
   "metadata": {},
   "source": [
    "Perform the same enforcement on the numeric and date values of the `sample_data` array."
   ]
  },
  {
   "cell_type": "code",
   "execution_count": 8,
   "metadata": {},
   "outputs": [],
   "source": [
    "for record in sample_data:\n",
    "    record['order_timestamp'] = datetime.fromisoformat(record['order_timestamp'])\n",
    "    record['order_date'] = datetime.strptime(record['order_date'],'%Y-%m-%d')\n",
    "    record['product_unitary_price'] = float(record['product_unitary_price'])\n",
    "    record['total_price'] = float(record['total_price'])"
   ]
  },
  {
   "cell_type": "markdown",
   "metadata": {},
   "source": [
    "Now you can create the `Table` for each sample data using the `from_elements` function, PyFlink has some predefined sources for Python, such as `pandas` dataframe or collections."
   ]
  },
  {
   "cell_type": "code",
   "execution_count": 9,
   "metadata": {},
   "outputs": [],
   "source": [
    "source_stock_table = table_env.from_elements(sample_stock_data, row_stock_schema)"
   ]
  },
  {
   "cell_type": "code",
   "execution_count": 10,
   "metadata": {},
   "outputs": [],
   "source": [
    "source_table = table_env.from_elements(sample_data, row_source_schema)"
   ]
  },
  {
   "cell_type": "markdown",
   "metadata": {},
   "source": [
    "To verify the data is loaded properly, you can convert the PyFlink Tables to Pandas DataFrames and print the first records."
   ]
  },
  {
   "cell_type": "code",
   "execution_count": 11,
   "metadata": {},
   "outputs": [
    {
     "data": {
      "text/html": [
       "<div>\n",
       "<style scoped>\n",
       "    .dataframe tbody tr th:only-of-type {\n",
       "        vertical-align: middle;\n",
       "    }\n",
       "\n",
       "    .dataframe tbody tr th {\n",
       "        vertical-align: top;\n",
       "    }\n",
       "\n",
       "    .dataframe thead th {\n",
       "        text-align: right;\n",
       "    }\n",
       "</style>\n",
       "<table border=\"1\" class=\"dataframe\">\n",
       "  <thead>\n",
       "    <tr style=\"text-align: right;\">\n",
       "      <th></th>\n",
       "      <th>event_time</th>\n",
       "      <th>ticker</th>\n",
       "      <th>price</th>\n",
       "    </tr>\n",
       "  </thead>\n",
       "  <tbody>\n",
       "    <tr>\n",
       "      <th>0</th>\n",
       "      <td>2024-06-03 08:14:52</td>\n",
       "      <td>INTC</td>\n",
       "      <td>81.09</td>\n",
       "    </tr>\n",
       "    <tr>\n",
       "      <th>1</th>\n",
       "      <td>2024-06-03 08:14:54</td>\n",
       "      <td>TBV</td>\n",
       "      <td>26.18</td>\n",
       "    </tr>\n",
       "    <tr>\n",
       "      <th>2</th>\n",
       "      <td>2024-06-03 08:15:00</td>\n",
       "      <td>MSFT</td>\n",
       "      <td>20.29</td>\n",
       "    </tr>\n",
       "    <tr>\n",
       "      <th>3</th>\n",
       "      <td>2024-06-03 08:15:05</td>\n",
       "      <td>INTC</td>\n",
       "      <td>88.44</td>\n",
       "    </tr>\n",
       "    <tr>\n",
       "      <th>4</th>\n",
       "      <td>2024-06-03 08:15:11</td>\n",
       "      <td>AMZN</td>\n",
       "      <td>91.96</td>\n",
       "    </tr>\n",
       "  </tbody>\n",
       "</table>\n",
       "</div>"
      ],
      "text/plain": [
       "           event_time ticker  price\n",
       "0 2024-06-03 08:14:52   INTC  81.09\n",
       "1 2024-06-03 08:14:54    TBV  26.18\n",
       "2 2024-06-03 08:15:00   MSFT  20.29\n",
       "3 2024-06-03 08:15:05   INTC  88.44\n",
       "4 2024-06-03 08:15:11   AMZN  91.96"
      ]
     },
     "execution_count": 11,
     "metadata": {},
     "output_type": "execute_result"
    }
   ],
   "source": [
    "source_stock_df = source_stock_table.to_pandas()\n",
    "source_stock_df.head()"
   ]
  },
  {
   "cell_type": "code",
   "execution_count": 12,
   "metadata": {},
   "outputs": [
    {
     "data": {
      "text/html": [
       "<div>\n",
       "<style scoped>\n",
       "    .dataframe tbody tr th:only-of-type {\n",
       "        vertical-align: middle;\n",
       "    }\n",
       "\n",
       "    .dataframe tbody tr th {\n",
       "        vertical-align: top;\n",
       "    }\n",
       "\n",
       "    .dataframe thead th {\n",
       "        text-align: right;\n",
       "    }\n",
       "</style>\n",
       "<table border=\"1\" class=\"dataframe\">\n",
       "  <thead>\n",
       "    <tr style=\"text-align: right;\">\n",
       "      <th></th>\n",
       "      <th>order_id</th>\n",
       "      <th>order_timestamp</th>\n",
       "      <th>order_date</th>\n",
       "      <th>customer_number</th>\n",
       "      <th>customer_visit_number</th>\n",
       "      <th>customer_city</th>\n",
       "      <th>customer_country</th>\n",
       "      <th>customer_credit_limit</th>\n",
       "      <th>device_type</th>\n",
       "      <th>browser</th>\n",
       "      <th>operating_system</th>\n",
       "      <th>product_code</th>\n",
       "      <th>product_line</th>\n",
       "      <th>product_unitary_price</th>\n",
       "      <th>in_shopping_cart</th>\n",
       "      <th>quantity</th>\n",
       "      <th>total_price</th>\n",
       "      <th>traffic_source</th>\n",
       "    </tr>\n",
       "  </thead>\n",
       "  <tbody>\n",
       "    <tr>\n",
       "      <th>0</th>\n",
       "      <td>a03470d0-0f5d-4ab1-9ace-e1163737a4f1</td>\n",
       "      <td>2024-06-01 00:00:30</td>\n",
       "      <td>2024-06-01</td>\n",
       "      <td>497</td>\n",
       "      <td>1</td>\n",
       "      <td>Allentown</td>\n",
       "      <td>USA</td>\n",
       "      <td>26955</td>\n",
       "      <td>desktop</td>\n",
       "      <td>Mozilla/5.0 (iPod; U; CPU iPhone OS 4_0 like M...</td>\n",
       "      <td>MacOS</td>\n",
       "      <td>S18_1129</td>\n",
       "      <td>Classic Cars</td>\n",
       "      <td>141.54</td>\n",
       "      <td>None</td>\n",
       "      <td>2</td>\n",
       "      <td>283.08</td>\n",
       "      <td>http://www.hawkins-rosales.com/</td>\n",
       "    </tr>\n",
       "    <tr>\n",
       "      <th>1</th>\n",
       "      <td>e76ad923-0573-462f-a1a1-4fc39fc638fa</td>\n",
       "      <td>2024-06-01 00:01:00</td>\n",
       "      <td>2024-06-01</td>\n",
       "      <td>363</td>\n",
       "      <td>1</td>\n",
       "      <td>Hatfield</td>\n",
       "      <td>South Africa</td>\n",
       "      <td>103991</td>\n",
       "      <td>mobile</td>\n",
       "      <td>Mozilla/5.0 (compatible; MSIE 9.0; Windows NT ...</td>\n",
       "      <td>Windows</td>\n",
       "      <td>S10_4698</td>\n",
       "      <td>Motorcycles</td>\n",
       "      <td>193.66</td>\n",
       "      <td>None</td>\n",
       "      <td>2</td>\n",
       "      <td>387.32</td>\n",
       "      <td>http://hernandez.com/</td>\n",
       "    </tr>\n",
       "    <tr>\n",
       "      <th>2</th>\n",
       "      <td>f282b18b-9230-4071-a23d-91450002462a</td>\n",
       "      <td>2024-06-01 00:01:30</td>\n",
       "      <td>2024-06-01</td>\n",
       "      <td>238</td>\n",
       "      <td>1</td>\n",
       "      <td>Vancouver</td>\n",
       "      <td>Canada</td>\n",
       "      <td>122016</td>\n",
       "      <td>desktop</td>\n",
       "      <td>Opera/8.91.(X11; Linux x86_64; szl-PL) Presto/...</td>\n",
       "      <td>iOS</td>\n",
       "      <td>S18_2238</td>\n",
       "      <td>Classic Cars</td>\n",
       "      <td>163.73</td>\n",
       "      <td>None</td>\n",
       "      <td>9</td>\n",
       "      <td>1473.57</td>\n",
       "      <td>https://smith.net/</td>\n",
       "    </tr>\n",
       "    <tr>\n",
       "      <th>3</th>\n",
       "      <td>5dcadad7-5dc3-4c48-a712-c0b8f2a856c4</td>\n",
       "      <td>2024-06-01 00:02:00</td>\n",
       "      <td>2024-06-01</td>\n",
       "      <td>417</td>\n",
       "      <td>1</td>\n",
       "      <td>Liverpool</td>\n",
       "      <td>UK</td>\n",
       "      <td>82556</td>\n",
       "      <td>mobile</td>\n",
       "      <td>Mozilla/5.0 (compatible; MSIE 9.0; Windows NT ...</td>\n",
       "      <td>Windows</td>\n",
       "      <td>S700_1691</td>\n",
       "      <td>Planes</td>\n",
       "      <td>91.34</td>\n",
       "      <td>None</td>\n",
       "      <td>3</td>\n",
       "      <td>274.02</td>\n",
       "      <td>http://brown.com/</td>\n",
       "    </tr>\n",
       "    <tr>\n",
       "      <th>4</th>\n",
       "      <td>48b1fd40-b55b-424f-8387-11f69d601ba5</td>\n",
       "      <td>2024-06-01 00:02:30</td>\n",
       "      <td>2024-06-01</td>\n",
       "      <td>246</td>\n",
       "      <td>1</td>\n",
       "      <td>Oulu</td>\n",
       "      <td>Finland</td>\n",
       "      <td>103598</td>\n",
       "      <td>desktop</td>\n",
       "      <td>Mozilla/5.0 (Macintosh; Intel Mac OS X 10_7_6)...</td>\n",
       "      <td>MacOS</td>\n",
       "      <td>S700_1691</td>\n",
       "      <td>Planes</td>\n",
       "      <td>91.34</td>\n",
       "      <td>None</td>\n",
       "      <td>6</td>\n",
       "      <td>548.04</td>\n",
       "      <td>http://www.rodriguez.com/</td>\n",
       "    </tr>\n",
       "  </tbody>\n",
       "</table>\n",
       "</div>"
      ],
      "text/plain": [
       "                               order_id     order_timestamp  order_date  \\\n",
       "0  a03470d0-0f5d-4ab1-9ace-e1163737a4f1 2024-06-01 00:00:30  2024-06-01   \n",
       "1  e76ad923-0573-462f-a1a1-4fc39fc638fa 2024-06-01 00:01:00  2024-06-01   \n",
       "2  f282b18b-9230-4071-a23d-91450002462a 2024-06-01 00:01:30  2024-06-01   \n",
       "3  5dcadad7-5dc3-4c48-a712-c0b8f2a856c4 2024-06-01 00:02:00  2024-06-01   \n",
       "4  48b1fd40-b55b-424f-8387-11f69d601ba5 2024-06-01 00:02:30  2024-06-01   \n",
       "\n",
       "   customer_number  customer_visit_number customer_city customer_country  \\\n",
       "0              497                      1     Allentown              USA   \n",
       "1              363                      1      Hatfield     South Africa   \n",
       "2              238                      1     Vancouver           Canada   \n",
       "3              417                      1     Liverpool               UK   \n",
       "4              246                      1          Oulu          Finland   \n",
       "\n",
       "   customer_credit_limit device_type  \\\n",
       "0                  26955     desktop   \n",
       "1                 103991      mobile   \n",
       "2                 122016     desktop   \n",
       "3                  82556      mobile   \n",
       "4                 103598     desktop   \n",
       "\n",
       "                                             browser operating_system  \\\n",
       "0  Mozilla/5.0 (iPod; U; CPU iPhone OS 4_0 like M...            MacOS   \n",
       "1  Mozilla/5.0 (compatible; MSIE 9.0; Windows NT ...          Windows   \n",
       "2  Opera/8.91.(X11; Linux x86_64; szl-PL) Presto/...              iOS   \n",
       "3  Mozilla/5.0 (compatible; MSIE 9.0; Windows NT ...          Windows   \n",
       "4  Mozilla/5.0 (Macintosh; Intel Mac OS X 10_7_6)...            MacOS   \n",
       "\n",
       "  product_code  product_line  product_unitary_price in_shopping_cart  \\\n",
       "0     S18_1129  Classic Cars                 141.54             None   \n",
       "1     S10_4698   Motorcycles                 193.66             None   \n",
       "2     S18_2238  Classic Cars                 163.73             None   \n",
       "3    S700_1691        Planes                  91.34             None   \n",
       "4    S700_1691        Planes                  91.34             None   \n",
       "\n",
       "   quantity  total_price                   traffic_source  \n",
       "0         2       283.08  http://www.hawkins-rosales.com/  \n",
       "1         2       387.32            http://hernandez.com/  \n",
       "2         9      1473.57               https://smith.net/  \n",
       "3         3       274.02                http://brown.com/  \n",
       "4         6       548.04        http://www.rodriguez.com/  "
      ]
     },
     "execution_count": 12,
     "metadata": {},
     "output_type": "execute_result"
    }
   ],
   "source": [
    "source_table_df = source_table.to_pandas()\n",
    "source_table_df.head()"
   ]
  },
  {
   "cell_type": "markdown",
   "metadata": {},
   "source": [
    "<a name='2.3'></a>\n",
    "### 2.3 - Table Definition with SQL\n",
    "\n",
    "Now explore an alternative and more intuitive method to define a table in Flink by using SQL and connectors. In this approach, you will define an SQL table that points to the `filesystem` connector and configure various properties such as format and path. Flink provides robust support for connecting to a variety of data sources, including local files, message queues like Kafka, data streams like Kinesis, and even databases. This flexibility allows us to seamlessly integrate Flink with diverse data ecosystems, making it a powerful tool for real-time data processing.\n",
    "\n",
    "You will also add a **WATERMARK** to the timestamp field in the table definition, the watermark helps Flink to recognize the timestamp field as the event time for each record. In Flink, data can be processed based on two types of time columns: processing time and event time. Processing time refers to the system time of the machine running Flink, while event time refers to the actual time at which the events occurred within the stream. "
   ]
  },
  {
   "cell_type": "code",
   "execution_count": 13,
   "metadata": {},
   "outputs": [
    {
     "data": {
      "text/plain": [
       "<pyflink.table.table_result.TableResult at 0x7f2965fed490>"
      ]
     },
     "execution_count": 13,
     "metadata": {},
     "output_type": "execute_result"
    }
   ],
   "source": [
    "stock_table_ddl = \"\"\"\n",
    "  CREATE TABLE stock_data (\n",
    "    event_time TIMESTAMP(0),\n",
    "    ticker STRING,\n",
    "    price NUMERIC,\n",
    "    WATERMARK FOR event_time AS event_time - INTERVAL '5' MINUTES\n",
    "    ) with (\n",
    "        'connector' = 'filesystem',\n",
    "        'format' = 'json',\n",
    "        'path' = '{}',\n",
    "        'json.timestamp-format.standard' = 'ISO-8601'\n",
    "    )\n",
    "\"\"\".format(\"data/sample_stock.json\")\n",
    "table_env.execute_sql(stock_table_ddl)"
   ]
  },
  {
   "cell_type": "markdown",
   "metadata": {},
   "source": [
    "Use SQL to define the `source_data` table based on the `data/sample.json` file, don't forget to include the WATERMARK for the `order_timestamp` field."
   ]
  },
  {
   "cell_type": "code",
   "execution_count": 14,
   "metadata": {},
   "outputs": [
    {
     "data": {
      "text/plain": [
       "<pyflink.table.table_result.TableResult at 0x7f2933ccdbb0>"
      ]
     },
     "execution_count": 14,
     "metadata": {},
     "output_type": "execute_result"
    }
   ],
   "source": [
    "table_env.execute_sql(\"DROP TABLE IF EXISTS source_data\")\n",
    "source_table_ddl = \"\"\"\n",
    "  CREATE TABLE source_data (\n",
    "    order_id STRING,\n",
    "    order_timestamp TIMESTAMP(0),\n",
    "    order_date STRING,\n",
    "    customer_number INT,\n",
    "    customer_visit_number INT,\n",
    "    customer_city STRING,\n",
    "    customer_country STRING,\n",
    "    customer_credit_limit INT,\n",
    "    device_type STRING,\n",
    "    browser STRING,\n",
    "    operating_system STRING,\n",
    "    product_code STRING, \n",
    "    product_line STRING,\n",
    "    product_unitary_price NUMERIC,\n",
    "    quantity INT, \n",
    "    total_price NUMERIC,\n",
    "    traffic_source STRING,\n",
    "    WATERMARK FOR order_timestamp AS order_timestamp - INTERVAL '5' MINUTES\n",
    "    ) with (\n",
    "        'connector' = 'filesystem',\n",
    "        'format' = 'json',\n",
    "        'path' = '{}',\n",
    "        'json.timestamp-format.standard' = 'ISO-8601'\n",
    "    )\n",
    "\"\"\".format(\"data/sample.json\")\n",
    "table_env.execute_sql(source_table_ddl)"
   ]
  },
  {
   "cell_type": "markdown",
   "metadata": {},
   "source": [
    "Using the from_path function you can bring a table created with SQL as a Table object in Pyflink, we can then run the `execute` and `print` functions to verify that the data was loaded successfully. In the case of the Classic Models data, convert the result to pandas and execute the `head` function, for better readability. "
   ]
  },
  {
   "cell_type": "code",
   "execution_count": 15,
   "metadata": {},
   "outputs": [
    {
     "name": "stdout",
     "output_type": "stream",
     "text": [
      "+----+---------------------+--------------------------------+--------------+\n",
      "| op |          event_time |                         ticker |        price |\n",
      "+----+---------------------+--------------------------------+--------------+\n",
      "| +I | 2024-06-03 08:14:52 |                           INTC |           81 |\n",
      "| +I | 2024-06-03 08:14:54 |                            TBV |           26 |\n",
      "| +I | 2024-06-03 08:15:00 |                           MSFT |           20 |\n",
      "| +I | 2024-06-03 08:15:05 |                           INTC |           88 |\n",
      "| +I | 2024-06-03 08:15:11 |                           AMZN |           92 |\n",
      "| +I | 2024-06-03 08:15:19 |                            TBV |           63 |\n",
      "| +I | 2024-06-03 08:15:27 |                           INTC |           34 |\n",
      "| +I | 2024-06-03 08:15:34 |                           AAPL |           19 |\n",
      "| +I | 2024-06-03 08:15:42 |                           AAPL |           91 |\n",
      "| +I | 2024-06-03 08:15:51 |                           MSFT |           19 |\n",
      "| +I | 2024-06-03 08:15:55 |                           AMZN |           40 |\n",
      "| +I | 2024-06-03 08:16:01 |                           AAPL |           90 |\n",
      "| +I | 2024-06-03 08:16:04 |                            TBV |           85 |\n",
      "| +I | 2024-06-03 08:16:10 |                           INTC |           14 |\n",
      "| +I | 2024-06-03 08:16:15 |                            TBV |            5 |\n",
      "| +I | 2024-06-03 08:16:16 |                           AMZN |           93 |\n",
      "| +I | 2024-06-03 08:16:19 |                           AAPL |           45 |\n",
      "| +I | 2024-06-03 08:16:25 |                           AAPL |           39 |\n",
      "| +I | 2024-06-03 08:16:34 |                            TBV |           61 |\n",
      "| +I | 2024-06-03 08:16:38 |                           AAPL |           65 |\n",
      "| +I | 2024-06-03 08:16:42 |                           MSFT |           86 |\n",
      "| +I | 2024-06-03 08:16:44 |                           MSFT |           39 |\n",
      "| +I | 2024-06-03 08:16:51 |                            TBV |           78 |\n",
      "| +I | 2024-06-03 08:16:53 |                           MSFT |            9 |\n",
      "| +I | 2024-06-03 08:16:55 |                           AAPL |           23 |\n",
      "| +I | 2024-06-03 08:16:59 |                           MSFT |           81 |\n",
      "| +I | 2024-06-03 08:17:03 |                            TBV |           54 |\n",
      "| +I | 2024-06-03 08:17:11 |                           AMZN |           43 |\n",
      "| +I | 2024-06-03 08:17:17 |                           INTC |           36 |\n",
      "| +I | 2024-06-03 08:17:17 |                           AAPL |           75 |\n",
      "| +I | 2024-06-03 08:17:20 |                           MSFT |           60 |\n",
      "| +I | 2024-06-03 08:17:28 |                           AAPL |           74 |\n",
      "| +I | 2024-06-03 08:17:34 |                           MSFT |           31 |\n",
      "| +I | 2024-06-03 08:17:39 |                           AMZN |            7 |\n",
      "| +I | 2024-06-03 08:17:47 |                           AMZN |           55 |\n",
      "| +I | 2024-06-03 08:17:51 |                            TBV |           68 |\n",
      "| +I | 2024-06-03 08:17:58 |                           AAPL |           30 |\n",
      "| +I | 2024-06-03 08:18:06 |                           MSFT |           37 |\n",
      "| +I | 2024-06-03 08:18:11 |                            TBV |           97 |\n",
      "| +I | 2024-06-03 08:18:13 |                           MSFT |           90 |\n",
      "| +I | 2024-06-03 08:18:22 |                           INTC |           79 |\n",
      "| +I | 2024-06-03 08:18:30 |                           AAPL |           79 |\n",
      "| +I | 2024-06-03 08:18:33 |                           AAPL |           82 |\n",
      "| +I | 2024-06-03 08:18:42 |                           AMZN |           15 |\n",
      "| +I | 2024-06-03 08:18:47 |                           MSFT |           33 |\n",
      "| +I | 2024-06-03 08:18:50 |                           AAPL |           28 |\n",
      "| +I | 2024-06-03 08:18:58 |                           AMZN |            0 |\n",
      "| +I | 2024-06-03 08:19:02 |                           INTC |           47 |\n",
      "| +I | 2024-06-03 08:19:06 |                            TBV |           98 |\n",
      "| +I | 2024-06-03 08:19:07 |                           MSFT |           63 |\n",
      "| +I | 2024-06-03 08:19:15 |                            TBV |           22 |\n",
      "| +I | 2024-06-03 08:19:19 |                           AAPL |           25 |\n",
      "| +I | 2024-06-03 08:19:21 |                            TBV |           46 |\n",
      "| +I | 2024-06-03 08:19:30 |                           INTC |           42 |\n",
      "| +I | 2024-06-03 08:19:39 |                           MSFT |           26 |\n",
      "| +I | 2024-06-03 08:19:46 |                            TBV |            0 |\n",
      "| +I | 2024-06-03 08:19:46 |                           AMZN |           81 |\n",
      "| +I | 2024-06-03 08:19:47 |                           INTC |           20 |\n",
      "| +I | 2024-06-03 08:19:52 |                           MSFT |            3 |\n",
      "| +I | 2024-06-03 08:19:59 |                            TBV |            7 |\n",
      "| +I | 2024-06-03 08:20:07 |                           MSFT |           94 |\n",
      "| +I | 2024-06-03 08:20:11 |                           INTC |           41 |\n",
      "| +I | 2024-06-03 08:20:20 |                           AAPL |           44 |\n",
      "| +I | 2024-06-03 08:20:27 |                           INTC |           60 |\n",
      "| +I | 2024-06-03 08:20:31 |                            TBV |           92 |\n",
      "| +I | 2024-06-03 08:20:40 |                            TBV |           46 |\n",
      "| +I | 2024-06-03 08:20:40 |                           AAPL |           23 |\n",
      "| +I | 2024-06-03 08:20:45 |                           AMZN |           70 |\n",
      "| +I | 2024-06-03 08:20:52 |                           INTC |           33 |\n",
      "| +I | 2024-06-03 08:20:52 |                           AAPL |           43 |\n",
      "| +I | 2024-06-03 08:20:54 |                           INTC |           69 |\n",
      "| +I | 2024-06-03 08:20:56 |                            TBV |           18 |\n",
      "| +I | 2024-06-03 08:21:05 |                           INTC |           42 |\n",
      "| +I | 2024-06-03 08:21:06 |                           AAPL |           73 |\n",
      "| +I | 2024-06-03 08:21:13 |                            TBV |           22 |\n",
      "| +I | 2024-06-03 08:21:13 |                           AMZN |           73 |\n",
      "| +I | 2024-06-03 08:21:19 |                           MSFT |           76 |\n",
      "| +I | 2024-06-03 08:21:23 |                           AMZN |           55 |\n",
      "| +I | 2024-06-03 08:21:31 |                            TBV |           93 |\n",
      "| +I | 2024-06-03 08:21:40 |                           INTC |           57 |\n",
      "| +I | 2024-06-03 08:21:42 |                            TBV |           57 |\n",
      "| +I | 2024-06-03 08:21:46 |                           AMZN |           24 |\n",
      "| +I | 2024-06-03 08:21:53 |                            TBV |           58 |\n",
      "| +I | 2024-06-03 08:21:58 |                           INTC |           49 |\n",
      "| +I | 2024-06-03 08:22:00 |                           AMZN |           99 |\n",
      "| +I | 2024-06-03 08:22:05 |                           INTC |           97 |\n",
      "| +I | 2024-06-03 08:22:13 |                           INTC |           71 |\n",
      "| +I | 2024-06-03 08:22:15 |                           INTC |           43 |\n",
      "| +I | 2024-06-03 08:22:20 |                            TBV |           47 |\n",
      "| +I | 2024-06-03 08:22:29 |                            TBV |           93 |\n",
      "| +I | 2024-06-03 08:22:37 |                           AMZN |           37 |\n",
      "| +I | 2024-06-03 08:22:42 |                           AMZN |           54 |\n",
      "| +I | 2024-06-03 08:22:51 |                           AAPL |           86 |\n",
      "| +I | 2024-06-03 08:22:55 |                            TBV |           87 |\n",
      "| +I | 2024-06-03 08:23:03 |                            TBV |           69 |\n",
      "| +I | 2024-06-03 08:23:11 |                           INTC |           37 |\n",
      "| +I | 2024-06-03 08:23:14 |                           MSFT |           79 |\n",
      "| +I | 2024-06-03 08:23:16 |                           INTC |           93 |\n",
      "| +I | 2024-06-03 08:23:18 |                           AAPL |           15 |\n",
      "| +I | 2024-06-03 08:23:22 |                            TBV |           28 |\n",
      "+----+---------------------+--------------------------------+--------------+\n",
      "100 rows in set\n"
     ]
    }
   ],
   "source": [
    "stock_table = table_env.from_path(\"stock_data\")\n",
    "stock_table.execute().print()"
   ]
  },
  {
   "cell_type": "code",
   "execution_count": 16,
   "metadata": {},
   "outputs": [
    {
     "data": {
      "text/html": [
       "<div>\n",
       "<style scoped>\n",
       "    .dataframe tbody tr th:only-of-type {\n",
       "        vertical-align: middle;\n",
       "    }\n",
       "\n",
       "    .dataframe tbody tr th {\n",
       "        vertical-align: top;\n",
       "    }\n",
       "\n",
       "    .dataframe thead th {\n",
       "        text-align: right;\n",
       "    }\n",
       "</style>\n",
       "<table border=\"1\" class=\"dataframe\">\n",
       "  <thead>\n",
       "    <tr style=\"text-align: right;\">\n",
       "      <th></th>\n",
       "      <th>order_id</th>\n",
       "      <th>order_timestamp</th>\n",
       "      <th>order_date</th>\n",
       "      <th>customer_number</th>\n",
       "      <th>customer_visit_number</th>\n",
       "      <th>customer_city</th>\n",
       "      <th>customer_country</th>\n",
       "      <th>customer_credit_limit</th>\n",
       "      <th>device_type</th>\n",
       "      <th>browser</th>\n",
       "      <th>operating_system</th>\n",
       "      <th>product_code</th>\n",
       "      <th>product_line</th>\n",
       "      <th>product_unitary_price</th>\n",
       "      <th>quantity</th>\n",
       "      <th>total_price</th>\n",
       "      <th>traffic_source</th>\n",
       "    </tr>\n",
       "  </thead>\n",
       "  <tbody>\n",
       "    <tr>\n",
       "      <th>0</th>\n",
       "      <td>a03470d0-0f5d-4ab1-9ace-e1163737a4f1</td>\n",
       "      <td>2024-06-01 00:00:30</td>\n",
       "      <td>2024-06-01</td>\n",
       "      <td>497</td>\n",
       "      <td>1</td>\n",
       "      <td>Allentown</td>\n",
       "      <td>USA</td>\n",
       "      <td>26955</td>\n",
       "      <td>desktop</td>\n",
       "      <td>Mozilla/5.0 (iPod; U; CPU iPhone OS 4_0 like M...</td>\n",
       "      <td>MacOS</td>\n",
       "      <td>S18_1129</td>\n",
       "      <td>Classic Cars</td>\n",
       "      <td>142</td>\n",
       "      <td>2</td>\n",
       "      <td>283</td>\n",
       "      <td>http://www.hawkins-rosales.com/</td>\n",
       "    </tr>\n",
       "    <tr>\n",
       "      <th>1</th>\n",
       "      <td>e76ad923-0573-462f-a1a1-4fc39fc638fa</td>\n",
       "      <td>2024-06-01 00:01:00</td>\n",
       "      <td>2024-06-01</td>\n",
       "      <td>363</td>\n",
       "      <td>1</td>\n",
       "      <td>Hatfield</td>\n",
       "      <td>South Africa</td>\n",
       "      <td>103991</td>\n",
       "      <td>mobile</td>\n",
       "      <td>Mozilla/5.0 (compatible; MSIE 9.0; Windows NT ...</td>\n",
       "      <td>Windows</td>\n",
       "      <td>S10_4698</td>\n",
       "      <td>Motorcycles</td>\n",
       "      <td>194</td>\n",
       "      <td>2</td>\n",
       "      <td>387</td>\n",
       "      <td>http://hernandez.com/</td>\n",
       "    </tr>\n",
       "    <tr>\n",
       "      <th>2</th>\n",
       "      <td>f282b18b-9230-4071-a23d-91450002462a</td>\n",
       "      <td>2024-06-01 00:01:30</td>\n",
       "      <td>2024-06-01</td>\n",
       "      <td>238</td>\n",
       "      <td>1</td>\n",
       "      <td>Vancouver</td>\n",
       "      <td>Canada</td>\n",
       "      <td>122016</td>\n",
       "      <td>desktop</td>\n",
       "      <td>Opera/8.91.(X11; Linux x86_64; szl-PL) Presto/...</td>\n",
       "      <td>iOS</td>\n",
       "      <td>S18_2238</td>\n",
       "      <td>Classic Cars</td>\n",
       "      <td>164</td>\n",
       "      <td>9</td>\n",
       "      <td>1474</td>\n",
       "      <td>https://smith.net/</td>\n",
       "    </tr>\n",
       "    <tr>\n",
       "      <th>3</th>\n",
       "      <td>5dcadad7-5dc3-4c48-a712-c0b8f2a856c4</td>\n",
       "      <td>2024-06-01 00:02:00</td>\n",
       "      <td>2024-06-01</td>\n",
       "      <td>417</td>\n",
       "      <td>1</td>\n",
       "      <td>Liverpool</td>\n",
       "      <td>UK</td>\n",
       "      <td>82556</td>\n",
       "      <td>mobile</td>\n",
       "      <td>Mozilla/5.0 (compatible; MSIE 9.0; Windows NT ...</td>\n",
       "      <td>Windows</td>\n",
       "      <td>S700_1691</td>\n",
       "      <td>Planes</td>\n",
       "      <td>91</td>\n",
       "      <td>3</td>\n",
       "      <td>274</td>\n",
       "      <td>http://brown.com/</td>\n",
       "    </tr>\n",
       "    <tr>\n",
       "      <th>4</th>\n",
       "      <td>48b1fd40-b55b-424f-8387-11f69d601ba5</td>\n",
       "      <td>2024-06-01 00:02:30</td>\n",
       "      <td>2024-06-01</td>\n",
       "      <td>246</td>\n",
       "      <td>1</td>\n",
       "      <td>Oulu</td>\n",
       "      <td>Finland</td>\n",
       "      <td>103598</td>\n",
       "      <td>desktop</td>\n",
       "      <td>Mozilla/5.0 (Macintosh; Intel Mac OS X 10_7_6)...</td>\n",
       "      <td>MacOS</td>\n",
       "      <td>S700_1691</td>\n",
       "      <td>Planes</td>\n",
       "      <td>91</td>\n",
       "      <td>6</td>\n",
       "      <td>548</td>\n",
       "      <td>http://www.rodriguez.com/</td>\n",
       "    </tr>\n",
       "  </tbody>\n",
       "</table>\n",
       "</div>"
      ],
      "text/plain": [
       "                               order_id     order_timestamp  order_date  \\\n",
       "0  a03470d0-0f5d-4ab1-9ace-e1163737a4f1 2024-06-01 00:00:30  2024-06-01   \n",
       "1  e76ad923-0573-462f-a1a1-4fc39fc638fa 2024-06-01 00:01:00  2024-06-01   \n",
       "2  f282b18b-9230-4071-a23d-91450002462a 2024-06-01 00:01:30  2024-06-01   \n",
       "3  5dcadad7-5dc3-4c48-a712-c0b8f2a856c4 2024-06-01 00:02:00  2024-06-01   \n",
       "4  48b1fd40-b55b-424f-8387-11f69d601ba5 2024-06-01 00:02:30  2024-06-01   \n",
       "\n",
       "   customer_number  customer_visit_number customer_city customer_country  \\\n",
       "0              497                      1     Allentown              USA   \n",
       "1              363                      1      Hatfield     South Africa   \n",
       "2              238                      1     Vancouver           Canada   \n",
       "3              417                      1     Liverpool               UK   \n",
       "4              246                      1          Oulu          Finland   \n",
       "\n",
       "   customer_credit_limit device_type  \\\n",
       "0                  26955     desktop   \n",
       "1                 103991      mobile   \n",
       "2                 122016     desktop   \n",
       "3                  82556      mobile   \n",
       "4                 103598     desktop   \n",
       "\n",
       "                                             browser operating_system  \\\n",
       "0  Mozilla/5.0 (iPod; U; CPU iPhone OS 4_0 like M...            MacOS   \n",
       "1  Mozilla/5.0 (compatible; MSIE 9.0; Windows NT ...          Windows   \n",
       "2  Opera/8.91.(X11; Linux x86_64; szl-PL) Presto/...              iOS   \n",
       "3  Mozilla/5.0 (compatible; MSIE 9.0; Windows NT ...          Windows   \n",
       "4  Mozilla/5.0 (Macintosh; Intel Mac OS X 10_7_6)...            MacOS   \n",
       "\n",
       "  product_code  product_line product_unitary_price  quantity total_price  \\\n",
       "0     S18_1129  Classic Cars                   142         2         283   \n",
       "1     S10_4698   Motorcycles                   194         2         387   \n",
       "2     S18_2238  Classic Cars                   164         9        1474   \n",
       "3    S700_1691        Planes                    91         3         274   \n",
       "4    S700_1691        Planes                    91         6         548   \n",
       "\n",
       "                    traffic_source  \n",
       "0  http://www.hawkins-rosales.com/  \n",
       "1            http://hernandez.com/  \n",
       "2               https://smith.net/  \n",
       "3                http://brown.com/  \n",
       "4        http://www.rodriguez.com/  "
      ]
     },
     "execution_count": 16,
     "metadata": {},
     "output_type": "execute_result"
    }
   ],
   "source": [
    "input_table = table_env.from_path(\"source_data\")\n",
    "input_table_df = input_table.to_pandas()\n",
    "input_table_df.head()"
   ]
  },
  {
   "cell_type": "markdown",
   "metadata": {},
   "source": [
    "<a name='2.4'></a>\n",
    "### 2.4 - SQL Queries\n",
    "\n",
    "Now that you have the source data in Table format and in the catalog, you can do run SQL queries on top of the table in the catalog. As the source data is bounded, you can run queries and get results rather quickly. If the source data was in a stream then you would have to find more carefully how your queries are meant to be run, so they don't run indefinitely.\n",
    "\n",
    "Let's start with a simple query. You want to know the average price for the Amazon stock 'AMZN'."
   ]
  },
  {
   "cell_type": "code",
   "execution_count": 17,
   "metadata": {},
   "outputs": [
    {
     "name": "stdout",
     "output_type": "stream",
     "text": [
      "+----+------------------------------------------+\n",
      "| op |                                avg_price |\n",
      "+----+------------------------------------------+\n",
      "| +I |                                92.000000 |\n",
      "| -U |                                92.000000 |\n",
      "| +U |                                66.000000 |\n",
      "| -U |                                66.000000 |\n",
      "| +U |                                75.000000 |\n",
      "| -U |                                75.000000 |\n",
      "| +U |                                67.000000 |\n",
      "| -U |                                67.000000 |\n",
      "| +U |                                55.000000 |\n",
      "| -U |                                55.000000 |\n",
      "| +U |                                49.285714 |\n",
      "| -U |                                49.285714 |\n",
      "| +U |                                43.125000 |\n",
      "| -U |                                43.125000 |\n",
      "| +U |                                47.333333 |\n",
      "| -U |                                47.333333 |\n",
      "| +U |                                49.600000 |\n",
      "| -U |                                49.600000 |\n",
      "| +U |                                51.727273 |\n",
      "| -U |                                51.727273 |\n",
      "| +U |                                52.000000 |\n",
      "| -U |                                52.000000 |\n",
      "| +U |                                49.846154 |\n",
      "| -U |                                49.846154 |\n",
      "| +U |                                53.357143 |\n",
      "| -U |                                53.357143 |\n",
      "| +U |                                52.266667 |\n",
      "| -U |                                52.266667 |\n",
      "| +U |                                52.375000 |\n",
      "+----+------------------------------------------+\n",
      "29 rows in set\n"
     ]
    }
   ],
   "source": [
    "query_result = table_env.execute_sql(\"\"\"SELECT AVG(price) as avg_price\n",
    "                                     FROM stock_data\n",
    "                                     WHERE ticker = 'AMZN'\n",
    "                                     \"\"\")\n",
    "query_result.print()"
   ]
  },
  {
   "cell_type": "markdown",
   "metadata": {},
   "source": [
    "As Flink goes through the table, some operations, such as group aggregation, produce update events, and in this case, the aggregation do get updated. Now, create a query to get the total amount that each customer has spend in the Classic Models sample table."
   ]
  },
  {
   "cell_type": "code",
   "execution_count": 18,
   "metadata": {},
   "outputs": [
    {
     "name": "stdout",
     "output_type": "stream",
     "text": [
      "+----+-----------------+------------------------------------------+\n",
      "| op | customer_number |                    customer_total_amount |\n",
      "+----+-----------------+------------------------------------------+\n",
      "| +I |             497 |                                      283 |\n",
      "| +I |             363 |                                      387 |\n",
      "| +I |             238 |                                     1474 |\n",
      "| +I |             417 |                                      274 |\n",
      "| -U |             497 |                                      283 |\n",
      "| +U |             497 |                                      848 |\n",
      "| +I |             459 |                                      203 |\n",
      "| +I |             228 |                                      702 |\n",
      "| +I |             359 |                                      343 |\n",
      "| +I |             126 |                                      671 |\n",
      "| +I |             407 |                                      487 |\n",
      "| +I |             355 |                                      220 |\n",
      "| +I |             409 |                                      323 |\n",
      "| +I |             158 |                                      428 |\n",
      "| +I |             206 |                                      816 |\n",
      "| -U |             459 |                                      203 |\n",
      "| +U |             459 |                                     1034 |\n",
      "| +I |             364 |                                      991 |\n",
      "| +I |             351 |                                      623 |\n",
      "| +I |             215 |                                      641 |\n",
      "| +I |             280 |                                      526 |\n",
      "| +I |             300 |                                      149 |\n",
      "| +I |             171 |                                      274 |\n",
      "| -U |             171 |                                      274 |\n",
      "| +U |             171 |                                      511 |\n",
      "| -U |             215 |                                      641 |\n",
      "| +U |             215 |                                     1004 |\n",
      "| +I |             234 |                                     1020 |\n",
      "| +I |             297 |                                      401 |\n",
      "| +I |             439 |                                      798 |\n",
      "| +I |             212 |                                      139 |\n",
      "| +I |             458 |                                      861 |\n",
      "| -U |             228 |                                      702 |\n",
      "| +U |             228 |                                      948 |\n",
      "| -U |             280 |                                      526 |\n",
      "| +U |             280 |                                     1489 |\n",
      "| +I |             185 |                                      509 |\n",
      "| +I |             242 |                                      338 |\n",
      "| -U |             215 |                                     1004 |\n",
      "| +U |             215 |                                     1783 |\n",
      "| -U |             185 |                                      509 |\n",
      "| +U |             185 |                                      725 |\n",
      "| +I |             199 |                                     1058 |\n",
      "| +I |             101 |                                      403 |\n",
      "| -U |             297 |                                      401 |\n",
      "| +U |             297 |                                      655 |\n",
      "| +I |             108 |                                      249 |\n",
      "| +I |             233 |                                      435 |\n",
      "| +I |             246 |                                      548 |\n",
      "| +I |             415 |                                      702 |\n",
      "| +I |             485 |                                      189 |\n",
      "| +I |             262 |                                      138 |\n",
      "| +I |             291 |                                     1211 |\n",
      "| +I |             329 |                                      274 |\n",
      "| +I |             370 |                                      763 |\n",
      "| +I |             352 |                                      381 |\n",
      "| +I |             425 |                                      355 |\n",
      "| +I |             324 |                                      256 |\n",
      "| +I |             153 |                                      807 |\n",
      "| +I |             314 |                                      831 |\n",
      "| +I |             353 |                                      260 |\n",
      "| +I |             180 |                                      354 |\n",
      "| +I |             367 |                                      510 |\n",
      "| +I |             333 |                                      242 |\n",
      "| +I |             289 |                                     1105 |\n",
      "| +I |             287 |                                      402 |\n",
      "| +I |             379 |                                      695 |\n",
      "| +I |             152 |                                     1068 |\n",
      "| +I |             487 |                                      267 |\n",
      "| +I |             474 |                                     2078 |\n",
      "| -U |             370 |                                      763 |\n",
      "| +U |             370 |                                     1105 |\n",
      "| +I |             198 |                                      963 |\n",
      "| +I |             403 |                                      422 |\n",
      "| -U |             324 |                                      256 |\n",
      "| +U |             324 |                                      389 |\n",
      "| +I |             286 |                                      529 |\n",
      "| +I |             369 |                                      614 |\n",
      "| +I |             444 |                                      822 |\n",
      "| +I |             354 |                                      996 |\n",
      "| +I |             243 |                                      186 |\n",
      "| -U |             198 |                                      963 |\n",
      "| +U |             198 |                                     1682 |\n",
      "| -U |             180 |                                      354 |\n",
      "| +U |             180 |                                      596 |\n",
      "| +I |             257 |                                      244 |\n",
      "| +I |             195 |                                      144 |\n",
      "| -U |             262 |                                      138 |\n",
      "| +U |             262 |                                      263 |\n",
      "| -U |             379 |                                      695 |\n",
      "| +U |             379 |                                      775 |\n",
      "| +I |             121 |                                      699 |\n",
      "| +I |             259 |                                      996 |\n",
      "| +I |             337 |                                      956 |\n",
      "| +I |             362 |                                      997 |\n",
      "| -U |             353 |                                      260 |\n",
      "| +U |             353 |                                      814 |\n",
      "| +I |             290 |                                       99 |\n",
      "| +I |             484 |                                      314 |\n",
      "| -U |             367 |                                      510 |\n",
      "| +U |             367 |                                      891 |\n",
      "| -U |             403 |                                      422 |\n",
      "| +U |             403 |                                      521 |\n",
      "| -U |             484 |                                      314 |\n",
      "| +U |             484 |                                     1199 |\n",
      "| -U |             379 |                                      775 |\n",
      "| +U |             379 |                                     1197 |\n",
      "| +I |             358 |                                      302 |\n",
      "| +I |             250 |                                      920 |\n",
      "| -U |             403 |                                      521 |\n",
      "| +U |             403 |                                     1095 |\n",
      "| +I |             162 |                                     1012 |\n",
      "| -U |             180 |                                      596 |\n",
      "| +U |             180 |                                     1952 |\n",
      "| +I |             383 |                                      369 |\n",
      "| -U |             324 |                                      389 |\n",
      "| +U |             324 |                                      727 |\n",
      "| -U |             250 |                                      920 |\n",
      "| +U |             250 |                                      994 |\n",
      "| +I |             437 |                                      342 |\n",
      "| +I |             317 |                                      281 |\n",
      "| +I |             441 |                                      968 |\n",
      "| -U |             415 |                                      702 |\n",
      "| +U |             415 |                                      802 |\n",
      "| +I |             120 |                                      497 |\n",
      "+----+-----------------+------------------------------------------+\n",
      "125 rows in set\n"
     ]
    }
   ],
   "source": [
    "query_result = table_env.execute_sql(\"\"\"SELECT customer_number, \n",
    "                                     SUM(total_price) as customer_total_amount\n",
    "                                     FROM source_data GROUP BY customer_number\n",
    "                                     \"\"\")\n",
    "query_result.print()"
   ]
  },
  {
   "cell_type": "markdown",
   "metadata": {},
   "source": [
    "<a name='2.5'></a>\n",
    "### 2.5 - Window Queries\n",
    "\n",
    "Before going into more detail about window queries, let's define a user-defined function (UDF) to convert timestamp fields into string fields. This will help us when writing results into output tables."
   ]
  },
  {
   "cell_type": "code",
   "execution_count": 19,
   "metadata": {},
   "outputs": [],
   "source": [
    "@udf(input_types=[DataTypes.TIMESTAMP(3)], result_type=DataTypes.STRING())\n",
    "def to_string(i):\n",
    "    return str(i)\n",
    "\n",
    "table_env.create_temporary_system_function(\"to_string\", to_string)"
   ]
  },
  {
   "cell_type": "markdown",
   "metadata": {},
   "source": [
    "Windows is the main tool to process unbounded streaming data. It allows us to divide the stream into manageable finite section and appy computations for each section. In Flink, the syntax will be:\n",
    "\n",
    "```python\n",
    "stream.window(...)                 <-  required: \"assigner\"\n",
    "      .reduce/aggregate/apply()    <-  required: \"function\"\n",
    "```"
   ]
  },
  {
   "cell_type": "markdown",
   "metadata": {},
   "source": [
    "A **tumbling windows assigner** assigns each element to a window of a specified window size, the window size is fixed and the windows don't overlap.\n",
    "\n",
    "![tumbling-windows](images/tumbling-windows.png)"
   ]
  },
  {
   "cell_type": "markdown",
   "metadata": {},
   "source": [
    "Here is an example of a Tumble window query, you will look at the minimum price of a stock for 10 second windows."
   ]
  },
  {
   "cell_type": "code",
   "execution_count": 20,
   "metadata": {},
   "outputs": [
    {
     "data": {
      "text/html": [
       "<div>\n",
       "<style scoped>\n",
       "    .dataframe tbody tr th:only-of-type {\n",
       "        vertical-align: middle;\n",
       "    }\n",
       "\n",
       "    .dataframe tbody tr th {\n",
       "        vertical-align: top;\n",
       "    }\n",
       "\n",
       "    .dataframe thead th {\n",
       "        text-align: right;\n",
       "    }\n",
       "</style>\n",
       "<table border=\"1\" class=\"dataframe\">\n",
       "  <thead>\n",
       "    <tr style=\"text-align: right;\">\n",
       "      <th></th>\n",
       "      <th>ticker</th>\n",
       "      <th>price</th>\n",
       "      <th>event_time</th>\n",
       "    </tr>\n",
       "  </thead>\n",
       "  <tbody>\n",
       "    <tr>\n",
       "      <th>0</th>\n",
       "      <td>TBV</td>\n",
       "      <td>26</td>\n",
       "      <td>2024-06-03 08:15:00</td>\n",
       "    </tr>\n",
       "    <tr>\n",
       "      <th>1</th>\n",
       "      <td>INTC</td>\n",
       "      <td>88</td>\n",
       "      <td>2024-06-03 08:15:10</td>\n",
       "    </tr>\n",
       "    <tr>\n",
       "      <th>2</th>\n",
       "      <td>AAPL</td>\n",
       "      <td>19</td>\n",
       "      <td>2024-06-03 08:15:40</td>\n",
       "    </tr>\n",
       "    <tr>\n",
       "      <th>3</th>\n",
       "      <td>AAPL</td>\n",
       "      <td>91</td>\n",
       "      <td>2024-06-03 08:15:50</td>\n",
       "    </tr>\n",
       "    <tr>\n",
       "      <th>4</th>\n",
       "      <td>MSFT</td>\n",
       "      <td>19</td>\n",
       "      <td>2024-06-03 08:16:00</td>\n",
       "    </tr>\n",
       "  </tbody>\n",
       "</table>\n",
       "</div>"
      ],
      "text/plain": [
       "  ticker price           event_time\n",
       "0    TBV    26  2024-06-03 08:15:00\n",
       "1   INTC    88  2024-06-03 08:15:10\n",
       "2   AAPL    19  2024-06-03 08:15:40\n",
       "3   AAPL    91  2024-06-03 08:15:50\n",
       "4   MSFT    19  2024-06-03 08:16:00"
      ]
     },
     "execution_count": 20,
     "metadata": {},
     "output_type": "execute_result"
    }
   ],
   "source": [
    "example_tumbling_window_table = (\n",
    "    stock_table.window(\n",
    "        Tumble.over(lit(10).seconds).on(col(\"event_time\")).alias(\"ten_second_window\")\n",
    "    )\n",
    "    .group_by(col('ticker'), col('price'), col('ten_second_window'))\n",
    "    .select(col('ticker'), col('price').min.alias('price'), (to_string(col('ten_second_window').end)).alias('event_time'))\n",
    ")\n",
    "\n",
    "example_tumbling_window_df = example_tumbling_window_table.to_pandas()\n",
    "example_tumbling_window_df.head()"
   ]
  },
  {
   "cell_type": "markdown",
   "metadata": {},
   "source": [
    "<a id='ex01'></a>\n",
    "### Exercise 1\n",
    "\n",
    "Create a query to get the number of orders in 1-minute windows of time (60 second windows)."
   ]
  },
  {
   "cell_type": "code",
   "execution_count": 21,
   "metadata": {},
   "outputs": [
    {
     "data": {
      "text/html": [
       "<div>\n",
       "<style scoped>\n",
       "    .dataframe tbody tr th:only-of-type {\n",
       "        vertical-align: middle;\n",
       "    }\n",
       "\n",
       "    .dataframe tbody tr th {\n",
       "        vertical-align: top;\n",
       "    }\n",
       "\n",
       "    .dataframe thead th {\n",
       "        text-align: right;\n",
       "    }\n",
       "</style>\n",
       "<table border=\"1\" class=\"dataframe\">\n",
       "  <thead>\n",
       "    <tr style=\"text-align: right;\">\n",
       "      <th></th>\n",
       "      <th>event_time</th>\n",
       "      <th>num_orders</th>\n",
       "    </tr>\n",
       "  </thead>\n",
       "  <tbody>\n",
       "    <tr>\n",
       "      <th>0</th>\n",
       "      <td>2024-06-01 00:01:00</td>\n",
       "      <td>1</td>\n",
       "    </tr>\n",
       "    <tr>\n",
       "      <th>1</th>\n",
       "      <td>2024-06-01 00:02:00</td>\n",
       "      <td>2</td>\n",
       "    </tr>\n",
       "    <tr>\n",
       "      <th>2</th>\n",
       "      <td>2024-06-01 00:03:00</td>\n",
       "      <td>2</td>\n",
       "    </tr>\n",
       "    <tr>\n",
       "      <th>3</th>\n",
       "      <td>2024-06-01 00:04:00</td>\n",
       "      <td>2</td>\n",
       "    </tr>\n",
       "    <tr>\n",
       "      <th>4</th>\n",
       "      <td>2024-06-01 00:05:00</td>\n",
       "      <td>2</td>\n",
       "    </tr>\n",
       "  </tbody>\n",
       "</table>\n",
       "</div>"
      ],
      "text/plain": [
       "            event_time  num_orders\n",
       "0  2024-06-01 00:01:00           1\n",
       "1  2024-06-01 00:02:00           2\n",
       "2  2024-06-01 00:03:00           2\n",
       "3  2024-06-01 00:04:00           2\n",
       "4  2024-06-01 00:05:00           2"
      ]
     },
     "execution_count": 21,
     "metadata": {},
     "output_type": "execute_result"
    }
   ],
   "source": [
    "tumbling_window_table = (\n",
    "    input_table.window(\n",
    "        ### START CODE HERE ### (~ 1 line of code)\n",
    "        Tumble.over(lit(60).seconds).on(col(\"order_timestamp\")).alias(\"one_minute_window\")\n",
    "        ### END CODE HERE ###\n",
    "    )\n",
    "    .group_by(col('one_minute_window'))\n",
    "    .select((to_string(col('one_minute_window').end)).alias('event_time'),col('order_id').count.distinct.alias('num_orders'))\n",
    ")\n",
    "\n",
    "tumbling_window_df = tumbling_window_table.to_pandas()\n",
    "tumbling_window_df.head()"
   ]
  },
  {
   "cell_type": "markdown",
   "metadata": {},
   "source": [
    "##### __Expected Output__ \n",
    "\n",
    "| **event_time**        | **num_orders** |\n",
    "| --------------------- | -------------- |\n",
    "| 2024-06-01 00:01:00   | 1              |\n",
    "| 2024-06-01 00:02:00   | 2              |\n",
    "| 2024-06-01 00:03:00   | 2              |\n",
    "| 2024-06-01 00:04:00   | 2              |\n",
    "| 2024-06-01 00:05:00   | 2              |"
   ]
  },
  {
   "cell_type": "markdown",
   "metadata": {},
   "source": [
    "*Note*: You can also perform window queries with Flink SQL, this is an example of one:"
   ]
  },
  {
   "cell_type": "code",
   "execution_count": 22,
   "metadata": {},
   "outputs": [
    {
     "name": "stdout",
     "output_type": "stream",
     "text": [
      "+----+-------------------------+-------------------------+----------------------+\n",
      "| op |            window_start |              window_end |         total_orders |\n",
      "+----+-------------------------+-------------------------+----------------------+\n",
      "| +I | 2024-06-01 00:00:00.000 | 2024-06-01 00:01:00.000 |                    1 |\n",
      "| +I | 2024-06-01 00:01:00.000 | 2024-06-01 00:02:00.000 |                    2 |\n",
      "| +I | 2024-06-01 00:02:00.000 | 2024-06-01 00:03:00.000 |                    2 |\n",
      "| +I | 2024-06-01 00:03:00.000 | 2024-06-01 00:04:00.000 |                    2 |\n",
      "| +I | 2024-06-01 00:04:00.000 | 2024-06-01 00:05:00.000 |                    2 |\n",
      "| +I | 2024-06-01 00:05:00.000 | 2024-06-01 00:06:00.000 |                    2 |\n",
      "| +I | 2024-06-01 00:06:00.000 | 2024-06-01 00:07:00.000 |                    2 |\n",
      "| +I | 2024-06-01 00:07:00.000 | 2024-06-01 00:08:00.000 |                    2 |\n",
      "| +I | 2024-06-01 00:08:00.000 | 2024-06-01 00:09:00.000 |                    2 |\n",
      "| +I | 2024-06-01 00:09:00.000 | 2024-06-01 00:10:00.000 |                    2 |\n",
      "| +I | 2024-06-01 00:10:00.000 | 2024-06-01 00:11:00.000 |                    2 |\n",
      "| +I | 2024-06-01 00:11:00.000 | 2024-06-01 00:12:00.000 |                    2 |\n",
      "| +I | 2024-06-01 00:12:00.000 | 2024-06-01 00:13:00.000 |                    2 |\n",
      "| +I | 2024-06-01 00:13:00.000 | 2024-06-01 00:14:00.000 |                    2 |\n",
      "| +I | 2024-06-01 00:14:00.000 | 2024-06-01 00:15:00.000 |                    2 |\n",
      "| +I | 2024-06-01 00:15:00.000 | 2024-06-01 00:16:00.000 |                    2 |\n",
      "| +I | 2024-06-01 00:16:00.000 | 2024-06-01 00:17:00.000 |                    2 |\n",
      "| +I | 2024-06-01 00:17:00.000 | 2024-06-01 00:18:00.000 |                    2 |\n",
      "| +I | 2024-06-01 00:18:00.000 | 2024-06-01 00:19:00.000 |                    2 |\n",
      "| +I | 2024-06-01 00:19:00.000 | 2024-06-01 00:20:00.000 |                    2 |\n",
      "| +I | 2024-06-01 00:20:00.000 | 2024-06-01 00:21:00.000 |                    2 |\n",
      "| +I | 2024-06-01 00:21:00.000 | 2024-06-01 00:22:00.000 |                    2 |\n",
      "| +I | 2024-06-01 00:22:00.000 | 2024-06-01 00:23:00.000 |                    2 |\n",
      "| +I | 2024-06-01 00:23:00.000 | 2024-06-01 00:24:00.000 |                    2 |\n",
      "| +I | 2024-06-01 00:24:00.000 | 2024-06-01 00:25:00.000 |                    2 |\n",
      "| +I | 2024-06-01 00:25:00.000 | 2024-06-01 00:26:00.000 |                    2 |\n",
      "| +I | 2024-06-01 00:26:00.000 | 2024-06-01 00:27:00.000 |                    2 |\n",
      "| +I | 2024-06-01 00:27:00.000 | 2024-06-01 00:28:00.000 |                    2 |\n",
      "| +I | 2024-06-01 00:28:00.000 | 2024-06-01 00:29:00.000 |                    2 |\n",
      "| +I | 2024-06-01 00:29:00.000 | 2024-06-01 00:30:00.000 |                    2 |\n",
      "| +I | 2024-06-01 00:30:00.000 | 2024-06-01 00:31:00.000 |                    2 |\n",
      "| +I | 2024-06-01 00:31:00.000 | 2024-06-01 00:32:00.000 |                    2 |\n",
      "| +I | 2024-06-01 00:32:00.000 | 2024-06-01 00:33:00.000 |                    2 |\n",
      "| +I | 2024-06-01 00:33:00.000 | 2024-06-01 00:34:00.000 |                    2 |\n",
      "| +I | 2024-06-01 00:34:00.000 | 2024-06-01 00:35:00.000 |                    2 |\n",
      "| +I | 2024-06-01 00:35:00.000 | 2024-06-01 00:36:00.000 |                    2 |\n",
      "| +I | 2024-06-01 00:36:00.000 | 2024-06-01 00:37:00.000 |                    2 |\n",
      "| +I | 2024-06-01 00:37:00.000 | 2024-06-01 00:38:00.000 |                    2 |\n",
      "| +I | 2024-06-01 00:38:00.000 | 2024-06-01 00:39:00.000 |                    2 |\n",
      "| +I | 2024-06-01 00:39:00.000 | 2024-06-01 00:40:00.000 |                    2 |\n",
      "| +I | 2024-06-01 00:40:00.000 | 2024-06-01 00:41:00.000 |                    2 |\n",
      "| +I | 2024-06-01 00:41:00.000 | 2024-06-01 00:42:00.000 |                    2 |\n",
      "| +I | 2024-06-01 00:42:00.000 | 2024-06-01 00:43:00.000 |                    2 |\n",
      "| +I | 2024-06-01 00:43:00.000 | 2024-06-01 00:44:00.000 |                    2 |\n",
      "| +I | 2024-06-01 00:44:00.000 | 2024-06-01 00:45:00.000 |                    2 |\n",
      "| +I | 2024-06-01 00:45:00.000 | 2024-06-01 00:46:00.000 |                    2 |\n",
      "| +I | 2024-06-01 00:46:00.000 | 2024-06-01 00:47:00.000 |                    2 |\n",
      "| +I | 2024-06-01 00:47:00.000 | 2024-06-01 00:48:00.000 |                    2 |\n",
      "| +I | 2024-06-01 00:48:00.000 | 2024-06-01 00:49:00.000 |                    2 |\n",
      "| +I | 2024-06-01 00:49:00.000 | 2024-06-01 00:50:00.000 |                    2 |\n",
      "| +I | 2024-06-01 00:50:00.000 | 2024-06-01 00:51:00.000 |                    1 |\n",
      "+----+-------------------------+-------------------------+----------------------+\n",
      "51 rows in set\n"
     ]
    }
   ],
   "source": [
    "tumble_query = \"\"\"SELECT window_start, window_end, COUNT(DISTINCT order_id) AS total_orders\n",
    "  FROM TABLE(\n",
    "    TUMBLE(TABLE source_data, DESCRIPTOR(order_timestamp), INTERVAL '60' SECONDS))\n",
    "  GROUP BY window_start, window_end; \"\"\"\n",
    "query_result = table_env.execute_sql(tumble_query)\n",
    "query_result.print()"
   ]
  },
  {
   "cell_type": "markdown",
   "metadata": {},
   "source": [
    "The **sliding window assigner** assigns elements to windows of fixed length, it requires two arguments: window size and window slide. The window slide determines how frequently the windows are created, if this value is larger than the window size, then the windows will be overlapping. \n",
    "\n",
    "![sliding-windows](images/sliding-windows.png)"
   ]
  },
  {
   "cell_type": "markdown",
   "metadata": {},
   "source": [
    "This is an example on how to use a Sliding window query using PyFlink functions. Here first you will create the sliding window for 10 seconds every 5 seconds on the Stock table, then get the minimum price for each ticker in that window of time."
   ]
  },
  {
   "cell_type": "code",
   "execution_count": 23,
   "metadata": {},
   "outputs": [
    {
     "data": {
      "text/html": [
       "<div>\n",
       "<style scoped>\n",
       "    .dataframe tbody tr th:only-of-type {\n",
       "        vertical-align: middle;\n",
       "    }\n",
       "\n",
       "    .dataframe tbody tr th {\n",
       "        vertical-align: top;\n",
       "    }\n",
       "\n",
       "    .dataframe thead th {\n",
       "        text-align: right;\n",
       "    }\n",
       "</style>\n",
       "<table border=\"1\" class=\"dataframe\">\n",
       "  <thead>\n",
       "    <tr style=\"text-align: right;\">\n",
       "      <th></th>\n",
       "      <th>ticker</th>\n",
       "      <th>price</th>\n",
       "      <th>event_time</th>\n",
       "    </tr>\n",
       "  </thead>\n",
       "  <tbody>\n",
       "    <tr>\n",
       "      <th>0</th>\n",
       "      <td>INTC</td>\n",
       "      <td>81</td>\n",
       "      <td>2024-06-03 08:14:55</td>\n",
       "    </tr>\n",
       "    <tr>\n",
       "      <th>1</th>\n",
       "      <td>TBV</td>\n",
       "      <td>26</td>\n",
       "      <td>2024-06-03 08:14:55</td>\n",
       "    </tr>\n",
       "    <tr>\n",
       "      <th>2</th>\n",
       "      <td>INTC</td>\n",
       "      <td>81</td>\n",
       "      <td>2024-06-03 08:15:00</td>\n",
       "    </tr>\n",
       "    <tr>\n",
       "      <th>3</th>\n",
       "      <td>TBV</td>\n",
       "      <td>26</td>\n",
       "      <td>2024-06-03 08:15:00</td>\n",
       "    </tr>\n",
       "    <tr>\n",
       "      <th>4</th>\n",
       "      <td>MSFT</td>\n",
       "      <td>20</td>\n",
       "      <td>2024-06-03 08:15:05</td>\n",
       "    </tr>\n",
       "  </tbody>\n",
       "</table>\n",
       "</div>"
      ],
      "text/plain": [
       "  ticker price           event_time\n",
       "0   INTC    81  2024-06-03 08:14:55\n",
       "1    TBV    26  2024-06-03 08:14:55\n",
       "2   INTC    81  2024-06-03 08:15:00\n",
       "3    TBV    26  2024-06-03 08:15:00\n",
       "4   MSFT    20  2024-06-03 08:15:05"
      ]
     },
     "execution_count": 23,
     "metadata": {},
     "output_type": "execute_result"
    }
   ],
   "source": [
    "example_sliding_window_table = (\n",
    "    stock_table\n",
    "    .window(\n",
    "        Slide.over(lit(10).seconds)\n",
    "        .every(lit(5).seconds)        \n",
    "        .on(col(\"event_time\"))\n",
    "        .alias(\"ten_second_window\")\n",
    "    )\n",
    "    .group_by(col(\"ticker\"), col(\"ten_second_window\"))\n",
    "    .select(col(\"ticker\"), col(\"price\").min.alias(\"price\"),\n",
    "            to_string(col(\"ten_second_window\").end).alias(\"event_time\"))\n",
    ")\n",
    "\n",
    "example_sliding_window_df = example_sliding_window_table.to_pandas()\n",
    "example_sliding_window_df.head()"
   ]
  },
  {
   "cell_type": "markdown",
   "metadata": {},
   "source": [
    "<a id='ex02'></a>\n",
    "### Exercise 2\n",
    "\n",
    "Create a sliding window query to get the total amount of sales for a sliding window of 6 minutes, every 3 minutes."
   ]
  },
  {
   "cell_type": "code",
   "execution_count": 24,
   "metadata": {},
   "outputs": [
    {
     "data": {
      "text/html": [
       "<div>\n",
       "<style scoped>\n",
       "    .dataframe tbody tr th:only-of-type {\n",
       "        vertical-align: middle;\n",
       "    }\n",
       "\n",
       "    .dataframe tbody tr th {\n",
       "        vertical-align: top;\n",
       "    }\n",
       "\n",
       "    .dataframe thead th {\n",
       "        text-align: right;\n",
       "    }\n",
       "</style>\n",
       "<table border=\"1\" class=\"dataframe\">\n",
       "  <thead>\n",
       "    <tr style=\"text-align: right;\">\n",
       "      <th></th>\n",
       "      <th>event_time</th>\n",
       "      <th>total_sales</th>\n",
       "    </tr>\n",
       "  </thead>\n",
       "  <tbody>\n",
       "    <tr>\n",
       "      <th>0</th>\n",
       "      <td>2024-06-01 00:03:00</td>\n",
       "      <td>2966</td>\n",
       "    </tr>\n",
       "    <tr>\n",
       "      <th>1</th>\n",
       "      <td>2024-06-01 00:06:00</td>\n",
       "      <td>6045</td>\n",
       "    </tr>\n",
       "    <tr>\n",
       "      <th>2</th>\n",
       "      <td>2024-06-01 00:09:00</td>\n",
       "      <td>5826</td>\n",
       "    </tr>\n",
       "    <tr>\n",
       "      <th>3</th>\n",
       "      <td>2024-06-01 00:12:00</td>\n",
       "      <td>5511</td>\n",
       "    </tr>\n",
       "    <tr>\n",
       "      <th>4</th>\n",
       "      <td>2024-06-01 00:15:00</td>\n",
       "      <td>5389</td>\n",
       "    </tr>\n",
       "  </tbody>\n",
       "</table>\n",
       "</div>"
      ],
      "text/plain": [
       "           event_time total_sales\n",
       "0 2024-06-01 00:03:00        2966\n",
       "1 2024-06-01 00:06:00        6045\n",
       "2 2024-06-01 00:09:00        5826\n",
       "3 2024-06-01 00:12:00        5511\n",
       "4 2024-06-01 00:15:00        5389"
      ]
     },
     "execution_count": 24,
     "metadata": {},
     "output_type": "execute_result"
    }
   ],
   "source": [
    "sliding_window_table = (\n",
    "        input_table.window(\n",
    "            ### START CODE HERE ### (~ 2 lines of code)\n",
    "            Slide.over(lit(6).minute)\n",
    "            .every(lit(3).minutes)\n",
    "            ### END CODE HERE ###\n",
    "            \n",
    "            .on(col(\"order_timestamp\"))\n",
    "            .alias(\"six_minute_window\")\n",
    "        )\n",
    "        .group_by(col(\"six_minute_window\"))\n",
    "        .select((col(\"six_minute_window\").end).alias(\"event_time\"), col(\"total_price\").sum.alias(\"total_sales\"))\n",
    "    )\n",
    "\n",
    "sliding_window_df = sliding_window_table.to_pandas()\n",
    "sliding_window_df.head()"
   ]
  },
  {
   "cell_type": "markdown",
   "metadata": {},
   "source": [
    "##### __Expected Output__ \n",
    "\n",
    "| **event_time**        | **total_sales** |\n",
    "| --------------------- | --------------- |\n",
    "| 2024-06-01 00:03:00   | 2966            |\n",
    "| 2024-06-01 00:06:00   | 6045            |\n",
    "| 2024-06-01 00:09:00   | 5826            |\n",
    "| 2024-06-01 00:12:00   | 5511            |\n",
    "| 2024-06-01 00:15:00   | 5389            |"
   ]
  },
  {
   "cell_type": "markdown",
   "metadata": {},
   "source": [
    "<a name='2.6'></a>\n",
    "### 2.6 - Output Tables\n",
    "\n",
    "In Apache Flink, you need to define output tables, known as **sinks**, to store the results of the queries. The process of defining sink tables is similar to defining source tables, with the primary distinction being the specific sink configurations that can be applied. Additionally, Flink provides **print tables**, which are particularly useful for development and debugging purposes. Print tables allow us to output the results of a query directly to the console, enabling us to quickly verify and test our data processing logic. Here are some examples:"
   ]
  },
  {
   "cell_type": "code",
   "execution_count": 25,
   "metadata": {},
   "outputs": [],
   "source": [
    "query_result = table_env.sql_query(\"SELECT customer_number, SUM(total_price) as session_price FROM source_data GROUP BY customer_number\")"
   ]
  },
  {
   "cell_type": "code",
   "execution_count": 26,
   "metadata": {},
   "outputs": [],
   "source": [
    "table_env.create_temporary_view(\"query_result_view\", query_result)"
   ]
  },
  {
   "cell_type": "code",
   "execution_count": 27,
   "metadata": {},
   "outputs": [
    {
     "data": {
      "text/plain": [
       "<pyflink.table.table_result.TableResult at 0x7f29421012e0>"
      ]
     },
     "execution_count": 27,
     "metadata": {},
     "output_type": "execute_result"
    }
   ],
   "source": [
    "print_sink_ddl = \"\"\"\n",
    "    create table sink_table (\n",
    "        customer_number INT,\n",
    "        total_price DOUBLE\n",
    "    ) with (\n",
    "        'connector' = 'print'\n",
    "    )\n",
    "\"\"\"\n",
    "\n",
    "table_env.execute_sql(print_sink_ddl)"
   ]
  },
  {
   "cell_type": "code",
   "execution_count": 28,
   "metadata": {},
   "outputs": [
    {
     "name": "stdout",
     "output_type": "stream",
     "text": [
      "1> +I[246, 548.0]\n",
      "1> +I[415, 702.0]\n",
      "1> +I[485, 189.0]\n",
      "1> +I[262, 138.0]\n",
      "1> +I[291, 1211.0]\n",
      "1> +I[329, 274.0]\n",
      "1> +I[370, 763.0]\n",
      "1> +I[352, 381.0]\n",
      "1> +I[425, 355.0]\n",
      "1> +I[324, 256.0]\n",
      "1> +I[153, 807.0]\n",
      "1> +I[314, 831.0]\n",
      "1> +I[353, 260.0]\n",
      "1> +I[180, 354.0]\n",
      "1> +I[367, 510.0]\n",
      "1> +I[333, 242.0]\n",
      "1> +I[289, 1105.0]\n",
      "1> +I[287, 402.0]\n",
      "1> +I[379, 695.0]\n",
      "1> +I[152, 1068.0]\n",
      "1> +I[487, 267.0]\n",
      "1> +I[474, 2078.0]\n",
      "1> -U[370, 763.0]\n",
      "1> +U[370, 1105.0]\n",
      "1> +I[198, 963.0]\n",
      "1> +I[403, 422.0]\n",
      "1> -U[324, 256.0]\n",
      "1> +U[324, 389.0]\n",
      "1> +I[286, 529.0]\n",
      "1> +I[369, 614.0]\n",
      "1> +I[444, 822.0]\n",
      "1> +I[354, 996.0]\n",
      "1> +I[243, 186.0]\n",
      "1> -U[198, 963.0]\n",
      "1> +U[198, 1682.0]\n",
      "1> -U[180, 354.0]\n",
      "1> +U[180, 596.0]\n",
      "1> +I[257, 244.0]\n",
      "1> +I[195, 144.0]\n",
      "1> -U[262, 138.0]\n",
      "1> +U[262, 263.0]\n",
      "1> -U[379, 695.0]\n",
      "1> +U[379, 775.0]\n",
      "1> +I[121, 699.0]\n",
      "1> +I[259, 996.0]\n",
      "1> +I[337, 956.0]\n",
      "1> +I[362, 997.0]\n",
      "1> -U[353, 260.0]\n",
      "1> +U[353, 814.0]\n",
      "1> +I[290, 99.0]\n",
      "1> +I[484, 314.0]\n",
      "1> -U[367, 510.0]\n",
      "1> +U[367, 891.0]\n",
      "1> -U[403, 422.0]\n",
      "1> +U[403, 521.0]\n",
      "1> -U[484, 314.0]\n",
      "1> +U[484, 1199.0]\n",
      "1> -U[379, 775.0]\n",
      "1> +U[379, 1197.0]\n",
      "1> +I[358, 302.0]\n",
      "1> +I[250, 920.0]\n",
      "1> -U[403, 521.0]\n",
      "1> +U[403, 1095.0]\n",
      "1> +I[162, 1012.0]\n",
      "1> -U[180, 596.0]\n",
      "1> +U[180, 1952.0]\n",
      "1> +I[383, 369.0]\n",
      "1> -U[324, 389.0]\n",
      "1> +U[324, 727.0]\n",
      "1> -U[250, 920.0]\n",
      "1> +U[250, 994.0]\n",
      "1> +I[437, 342.0]\n",
      "1> +I[317, 281.0]\n",
      "1> +I[441, 968.0]\n",
      "1> -U[415, 702.0]\n",
      "1> +U[415, 802.0]\n",
      "1> +I[120, 497.0]\n",
      "2> +I[497, 283.0]\n",
      "2> +I[363, 387.0]\n",
      "2> +I[238, 1474.0]\n",
      "2> +I[417, 274.0]\n",
      "2> -U[497, 283.0]\n",
      "2> +U[497, 848.0]\n",
      "2> +I[459, 203.0]\n",
      "2> +I[228, 702.0]\n",
      "2> +I[359, 343.0]\n",
      "2> +I[126, 671.0]\n",
      "2> +I[407, 487.0]\n",
      "2> +I[355, 220.0]\n",
      "2> +I[409, 323.0]\n",
      "2> +I[158, 428.0]\n",
      "2> +I[206, 816.0]\n",
      "2> -U[459, 203.0]\n",
      "2> +U[459, 1034.0]\n",
      "2> +I[364, 991.0]\n",
      "2> +I[351, 623.0]\n",
      "2> +I[215, 641.0]\n",
      "2> +I[280, 526.0]\n",
      "2> +I[300, 149.0]\n",
      "2> +I[171, 274.0]\n",
      "2> -U[171, 274.0]\n",
      "2> +U[171, 511.0]\n",
      "2> -U[215, 641.0]\n",
      "2> +U[215, 1004.0]\n",
      "2> +I[234, 1020.0]\n",
      "2> +I[297, 401.0]\n",
      "2> +I[439, 798.0]\n",
      "2> +I[212, 139.0]\n",
      "2> +I[458, 861.0]\n",
      "2> -U[228, 702.0]\n",
      "2> +U[228, 948.0]\n",
      "2> -U[280, 526.0]\n",
      "2> +U[280, 1489.0]\n",
      "2> +I[185, 509.0]\n",
      "2> +I[242, 338.0]\n",
      "2> -U[215, 1004.0]\n",
      "2> +U[215, 1783.0]\n",
      "2> -U[185, 509.0]\n",
      "2> +U[185, 725.0]\n",
      "2> +I[199, 1058.0]\n",
      "2> +I[101, 403.0]\n",
      "2> -U[297, 401.0]\n",
      "2> +U[297, 655.0]\n",
      "2> +I[108, 249.0]\n",
      "2> +I[233, 435.0]\n"
     ]
    }
   ],
   "source": [
    "table_result = table_env.execute_sql(\"INSERT INTO {0} SELECT * FROM {1}\"\n",
    "                                         .format(\"sink_table\", \"query_result_view\"))"
   ]
  },
  {
   "cell_type": "markdown",
   "metadata": {},
   "source": [
    "You can revisit one of the previous example queries. Define a Table with the filesystem connector and save the results of the query into a JSON file."
   ]
  },
  {
   "cell_type": "code",
   "execution_count": 29,
   "metadata": {},
   "outputs": [],
   "source": [
    "example_sliding_window_table = (\n",
    "    stock_table\n",
    "    .window(\n",
    "        Slide.over(lit(10).seconds)\n",
    "        .every(lit(5).seconds)\n",
    "        .on(col(\"event_time\"))\n",
    "        .alias(\"ten_second_window\")\n",
    "    )\n",
    "    .group_by(col(\"ticker\"), col(\"ten_second_window\"))\n",
    "    .select(col(\"ticker\"), col(\"price\").min.alias(\"price\"),\n",
    "            to_string(col(\"ten_second_window\").end).alias(\"event_time\")))\n",
    "table_env.create_temporary_view(\"example_sliding_window_view\", example_sliding_window_table)"
   ]
  },
  {
   "cell_type": "code",
   "execution_count": 30,
   "metadata": {},
   "outputs": [
    {
     "data": {
      "text/plain": [
       "<pyflink.table.table_result.TableResult at 0x7f29421045b0>"
      ]
     },
     "execution_count": 30,
     "metadata": {},
     "output_type": "execute_result"
    }
   ],
   "source": [
    "output_ddl =  \"\"\" CREATE TABLE json_sink (\n",
    "                ticker VARCHAR(6),\n",
    "                price DOUBLE,\n",
    "                event_time VARCHAR(64)\n",
    "              )\n",
    "              PARTITIONED BY (ticker)\n",
    "              WITH (\n",
    "                'connector' = 'filesystem',\n",
    "                'path' = '{0}',\n",
    "                'format' = 'json',\n",
    "                'json.timestamp-format.standard' = 'ISO-8601'\n",
    "              ) \"\"\".format('data/output_sample')\n",
    "table_env.execute_sql(output_ddl)"
   ]
  },
  {
   "cell_type": "code",
   "execution_count": 31,
   "metadata": {},
   "outputs": [],
   "source": [
    "table_result = table_env.execute_sql(\"INSERT INTO {0} SELECT * FROM {1}\"\n",
    "                                         .format(\"json_sink\", \"example_sliding_window_view\"))"
   ]
  },
  {
   "cell_type": "markdown",
   "metadata": {},
   "source": [
    "Check the folder in the `data/output_sample` path to see the output of the query in JSON files."
   ]
  },
  {
   "cell_type": "markdown",
   "metadata": {},
   "source": [
    "<a name='3'></a>\n",
    "## 3 - PyFlink with Kinesis"
   ]
  },
  {
   "cell_type": "markdown",
   "metadata": {},
   "source": [
    "For Flink (and PyFlink) to work with Kinesis, you would need to configure Flink SQL Connectors using JARs. JAR stands for **J**ava **AR**chive, it contains a collection of files that compose a package. Instead of configuring the connectors, to better leverage the power of Kinesis, you are going to use the Amazon Managed Service for Apache Flink service. The Managed service allows to develop Flink applications or to run Flink in notebooks in a Studio environment. You will use it to run queries on the Kinesis Data stream.\n",
    "\n",
    "3.1. To enter the studio which was provided for this lab, return to the AWS console and search for `Managed Apache Flink`. Select the service, and you should see a dashboard like this one:\n",
    "\n",
    "![kinesis dashboard](images/kinesis_dashboard.png)"
   ]
  },
  {
   "cell_type": "markdown",
   "metadata": {},
   "source": [
    "3.2. Select the **Studio notebooks** link in the sidebar of the dashboard, you should see this new Dashboard with a single Studio notebook:\n",
    "\n",
    "![kinesis studio dashboard](images/studio_dashboard.png)"
   ]
  },
  {
   "cell_type": "markdown",
   "metadata": {},
   "source": [
    "3.3. Click on the notebook name and click on **Run** button. It takes around 3-5 minutes to get the Studio environment ready. Once it's done, the status should change to `Running`\n",
    "\n",
    "![kinesis studio running](images/studio_running.png)"
   ]
  },
  {
   "cell_type": "markdown",
   "metadata": {},
   "source": [
    "3.4. Select the studio notebook name and then click on **Open in Apache Zeppelin** button. You now should see the Apache Zeppelin Environment UI:\n",
    "\n",
    "![zeppelin dashboard](images/zeppelin_import.png)"
   ]
  },
  {
   "cell_type": "markdown",
   "metadata": {},
   "source": [
    "3.5. In Cloud9 or Jupyter environment you should see the `C3_W3_Lab_2_Streaming_Queries_Flink_Studio.zpln` notebook. Download it locally, then go to the Zeppelin UI, click on **Import note**. A new menu should appear. Click on `Select JSON File/IPYNB File` and import the `C3_W3_Lab_2_Streaming_Queries_Flink_Studio.zpln` notebook. The notebook should now appear in the UI:\n",
    "\n",
    "![zeppelin imported](images/importer_notebook.png)"
   ]
  },
  {
   "cell_type": "markdown",
   "metadata": {},
   "source": [
    "3.6. Open the notebook and follow the instructions there."
   ]
  },
  {
   "cell_type": "code",
   "execution_count": null,
   "metadata": {},
   "outputs": [],
   "source": []
  }
 ],
 "metadata": {
  "kernelspec": {
   "display_name": "Python 3 (ipykernel)",
   "language": "python",
   "name": "python3"
  },
  "language_info": {
   "codemirror_mode": {
    "name": "ipython",
    "version": 3
   },
   "file_extension": ".py",
   "mimetype": "text/x-python",
   "name": "python",
   "nbconvert_exporter": "python",
   "pygments_lexer": "ipython3",
   "version": "3.9.16"
  }
 },
 "nbformat": 4,
 "nbformat_minor": 4
}
